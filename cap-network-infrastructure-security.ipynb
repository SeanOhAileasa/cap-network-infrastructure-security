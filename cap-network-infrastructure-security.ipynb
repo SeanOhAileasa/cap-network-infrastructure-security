{
 "cells": [
  {
   "cell_type": "markdown",
   "id": "d4ee9e4b",
   "metadata": {},
   "source": [
    "***\n",
    "< [Home](https://github.com/SeanOhAileasa) | [README](https://github.com/SeanOhAileasa/cap-network-infrastructure-security/blob/main/README.md) >\n",
    "\n",
    "## CompTIA Cybersecurity Analyst (CySA+) - Course Material 2022\n",
    "###### Topic: ``Network Infrastructure Security``\n",
    "***"
   ]
  },
  {
   "cell_type": "markdown",
   "id": "b82b07fb",
   "metadata": {},
   "source": [
    "Course material for the ``CompTIA Cybersecurity Analyst (CySA+)`` module of the ``ICT Associate Apprenticeship (Cybersecurity)`` programme."
   ]
  },
  {
   "cell_type": "markdown",
   "id": "e7228f57",
   "metadata": {},
   "source": [
    "<a id=\"top\"></a>\n",
    "***\n",
    "## Table of Contents\n",
    "***"
   ]
  },
  {
   "cell_type": "markdown",
   "id": "c2bb5e7b",
   "metadata": {},
   "source": [
    "### [Network Infrastructure Security](#NetworkInfrastructureSecurity) <br/><br/>\n",
    "<hr width=50%;>"
   ]
  },
  {
   "cell_type": "markdown",
   "id": "1868a5a5",
   "metadata": {},
   "source": [
    "### [On-premises and Cloud Management](#OnpremisesandCloudManagement) <br/><br/>\n",
    "<hr width=50%;>"
   ]
  },
  {
   "cell_type": "markdown",
   "id": "18e48a1b",
   "metadata": {},
   "source": [
    "### [Asset Discovery and Management](#AssetDiscoveryandManagement) <br/><br/>\n",
    "<hr width=50%;>"
   ]
  },
  {
   "cell_type": "markdown",
   "id": "cdbf3150",
   "metadata": {},
   "source": [
    "### [Cloud Resource Tagging](#CloudResourceTagging) <br/><br/>\n",
    "<hr width=50%;>"
   ]
  },
  {
   "cell_type": "markdown",
   "id": "6abbc6a6",
   "metadata": {},
   "source": [
    "### [Network Segmentation](#NetworkSegmentation) <br/><br/>\n",
    "<hr width=50%;>"
   ]
  },
  {
   "cell_type": "markdown",
   "id": "03968507",
   "metadata": {},
   "source": [
    "### [VPNs](#VPNs) <br/><br/>\n",
    "<hr width=50%;>"
   ]
  },
  {
   "cell_type": "markdown",
   "id": "fd014b46",
   "metadata": {},
   "source": [
    "### [Cloud Site-to-site VPN Deployment](#CloudSitetositeVPNDeployment) <br/><br/>\n",
    "<hr width=50%;>"
   ]
  },
  {
   "cell_type": "markdown",
   "id": "8edaa2ea",
   "metadata": {},
   "source": [
    "### [Cloud Networking](#CloudNetworking) <br/><br/>\n",
    "<hr width=50%;>"
   ]
  },
  {
   "cell_type": "markdown",
   "id": "97842d5f",
   "metadata": {},
   "source": [
    "### [Cloud VPC Deployment](#CloudVPCDeployment) <br/><br/>\n",
    "<hr width=50%;>"
   ]
  },
  {
   "cell_type": "markdown",
   "id": "e42fc9c2",
   "metadata": {},
   "source": [
    "### [Change Management Procedures](#ChangeManagementProcedures) <br/><br/>\n",
    "<hr width=50%;>"
   ]
  },
  {
   "cell_type": "markdown",
   "id": "ae5baff9",
   "metadata": {},
   "source": [
    "### [Virtual Desktop Infrastructure](#VirtualDesktopInfrastructure) <br/><br/>\n",
    "<hr width=50%;>"
   ]
  },
  {
   "cell_type": "markdown",
   "id": "294628b6",
   "metadata": {},
   "source": [
    "### [Cloud VDI Configuration](#CloudVDIConfiguration) <br/><br/>\n",
    "<hr width=50%;>"
   ]
  },
  {
   "cell_type": "markdown",
   "id": "32819f43",
   "metadata": {},
   "source": [
    "### [Cloud VDI Client Connections](#CloudVDIClientConnections) <br/><br/>\n",
    "<hr width=50%;>"
   ]
  },
  {
   "cell_type": "markdown",
   "id": "a712b310",
   "metadata": {},
   "source": [
    "### [Firewalls](#Firewalls) <br/><br/>\n",
    "<hr width=50%;>"
   ]
  },
  {
   "cell_type": "markdown",
   "id": "27d8ddcd",
   "metadata": {},
   "source": [
    "### [Windows Firewall](#WindowsFirewall) <br/><br/>\n",
    "<hr width=50%;>"
   ]
  },
  {
   "cell_type": "markdown",
   "id": "c0cc61dd",
   "metadata": {},
   "source": [
    "### [Cloud Firewall Solutions](#CloudFirewallSolutions) <br/><br/>\n",
    "<hr width=50%;>"
   ]
  },
  {
   "cell_type": "markdown",
   "id": "c0ec9989",
   "metadata": {},
   "source": [
    "### [Network Access Control](#NetworkAccessControl) <br/><br/>\n",
    "<hr width=50%;>"
   ]
  },
  {
   "cell_type": "markdown",
   "id": "4d3188ff",
   "metadata": {},
   "source": [
    "### [Course Summary](#CourseSummary) <br/><br/>\n",
    "<hr width=50%;>"
   ]
  },
  {
   "cell_type": "markdown",
   "id": "bf2b95e2",
   "metadata": {},
   "source": [
    "***\n",
    "## END"
   ]
  },
  {
   "cell_type": "markdown",
   "id": "34aa6eb5",
   "metadata": {},
   "source": [
    "< [Table of Contents](#top) | [References](#references) >\n",
    "<a id=\"NetworkInfrastructureSecurity\"></a>\n",
    "***\n",
    "### Network Infrastructure Security\n",
    "***"
   ]
  },
  {
   "cell_type": "markdown",
   "id": "289aa921",
   "metadata": {},
   "source": [
    "Managing network security involves planning the use of network devices, including cloud-based virtual network configurations. In this course, you'll learn about asset discovery and management, cloud resource tagging, network segmentation, and VPNs. You'll also examine cloud site-to-site VPN deployment, cloud networking, and cloud VPC deployment. Next, you'll learn about change management procedures, virtual desktop infrastructure, cloud VDI configuration and client connections, and firewalls. Lastly, explore network access control, RADIUS, and TACACS+. This course can be used in preparation for the CompTIA Cybersecurity Analyst (CySA+) certification exam CS0-002."
   ]
  },
  {
   "cell_type": "markdown",
   "id": "173e78b5",
   "metadata": {},
   "source": [
    "Objectives\n",
    "\n",
    "- discover the key concepts covered in this course <br/><br/>\n",
    "- identify similarities and differences when managing network security on-premises and in the cloud <br/><br/>\n",
    "- use the appropriate tools to identify and classify sensitive systems and data <br/><br/>\n",
    "- add metadata to cloud resources for organizational and billing purposes <br/><br/>\n",
    "- recognize methods whereby security is enhanced with network segmentation <br/><br/>\n",
    "- select a client-to-site or site-to-site VPN solution based on business needs <br/><br/>\n",
    "- link an on-premises network to the Amazon Web Services cloud <br/><br/>\n",
    "- design a cloud networking strategy <br/><br/>\n",
    "- deploy a virtual private cloud in Amazon Web Services <br/><br/>\n",
    "- identify how ITIL influences efficient service delivery, including change management implementation <br/><br/>\n",
    "- recognize the benefits of VDI <br/><br/>\n",
    "- configure an Amazon Workspaces VDI environment <br/><br/>\n",
    "- connect a client device to an Amazon Workspace VDI <br/><br/>\n",
    "- list how different types of firewalls protect digital assets <br/><br/>\n",
    "- configure a Windows host firewall <br/><br/>\n",
    "- configure an Amazon Web Services Network Security Group <br/><br/>\n",
    "- describe the role NAC plays in securing a network environment <br/><br/>\n",
    "- summarize the key concepts covered in this course <br/><br/>"
   ]
  },
  {
   "cell_type": "markdown",
   "id": "84b00380",
   "metadata": {},
   "source": [
    "< [Table of Contents](#top) | [References](#references) >\n",
    "<a id=\"OnpremisesandCloudManagement\"></a>\n",
    "***\n",
    "### On-premises and Cloud Management\n",
    "***"
   ]
  },
  {
   "cell_type": "markdown",
   "id": "d82d85d7",
   "metadata": {},
   "source": []
  },
  {
   "cell_type": "markdown",
   "id": "b4da2efe",
   "metadata": {},
   "source": [
    "< [Table of Contents](#top) | [References](#references) >\n",
    "<a id=\"AssetDiscoveryandManagement\"></a>\n",
    "***\n",
    "### Asset Discovery and Management\n",
    "***"
   ]
  },
  {
   "cell_type": "markdown",
   "id": "70f6e846",
   "metadata": {},
   "source": []
  },
  {
   "cell_type": "markdown",
   "id": "7b10c3a2",
   "metadata": {},
   "source": [
    "< [Table of Contents](#top) | [References](#references) >\n",
    "<a id=\"CloudResourceTagging\"></a>\n",
    "***\n",
    "### Cloud Resource Tagging\n",
    "***"
   ]
  },
  {
   "cell_type": "markdown",
   "id": "2cc18496",
   "metadata": {},
   "source": []
  },
  {
   "cell_type": "markdown",
   "id": "1ce9ff85",
   "metadata": {},
   "source": [
    "< [Table of Contents](#top) | [References](#references) >\n",
    "<a id=\"NetworkSegmentation\"></a>\n",
    "***\n",
    "### Network Segmentation\n",
    "***"
   ]
  },
  {
   "cell_type": "markdown",
   "id": "8bb9c616",
   "metadata": {},
   "source": []
  },
  {
   "cell_type": "markdown",
   "id": "d87809fd",
   "metadata": {},
   "source": [
    "< [Table of Contents](#top) | [References](#references) >\n",
    "<a id=\"VPNs\"></a>\n",
    "***\n",
    "### VPNs\n",
    "***"
   ]
  },
  {
   "cell_type": "markdown",
   "id": "f0a909b6",
   "metadata": {},
   "source": []
  },
  {
   "cell_type": "markdown",
   "id": "c781a700",
   "metadata": {},
   "source": [
    "< [Table of Contents](#top) | [References](#references) >\n",
    "<a id=\"CloudSitetositeVPNDeployment\"></a>\n",
    "***\n",
    "### Cloud Site-to-site VPN Deployment\n",
    "***"
   ]
  },
  {
   "cell_type": "markdown",
   "id": "cd41c08d",
   "metadata": {},
   "source": []
  },
  {
   "cell_type": "markdown",
   "id": "1256d7bf",
   "metadata": {},
   "source": [
    "< [Table of Contents](#top) | [References](#references) >\n",
    "<a id=\"CloudNetworking\"></a>\n",
    "***\n",
    "### Cloud Networking\n",
    "***"
   ]
  },
  {
   "cell_type": "markdown",
   "id": "3ab13be8",
   "metadata": {},
   "source": []
  },
  {
   "cell_type": "markdown",
   "id": "47707114",
   "metadata": {},
   "source": [
    "< [Table of Contents](#top) | [References](#references) >\n",
    "<a id=\"CloudVPCDeployment\"></a>\n",
    "***\n",
    "### Cloud VPC Deployment\n",
    "***"
   ]
  },
  {
   "cell_type": "markdown",
   "id": "5c5eb4ce",
   "metadata": {},
   "source": []
  },
  {
   "cell_type": "markdown",
   "id": "9adeceaf",
   "metadata": {},
   "source": [
    "< [Table of Contents](#top) | [References](#references) >\n",
    "<a id=\"ChangeManagementProcedures\"></a>\n",
    "***\n",
    "### Change Management Procedures\n",
    "***"
   ]
  },
  {
   "cell_type": "markdown",
   "id": "45d2f914",
   "metadata": {},
   "source": []
  },
  {
   "cell_type": "markdown",
   "id": "fd680b58",
   "metadata": {},
   "source": [
    "< [Table of Contents](#top) | [References](#references) >\n",
    "<a id=\"VirtualDesktopInfrastructure\"></a>\n",
    "***\n",
    "### Virtual Desktop Infrastructure\n",
    "***"
   ]
  },
  {
   "cell_type": "markdown",
   "id": "86a67316",
   "metadata": {},
   "source": []
  },
  {
   "cell_type": "markdown",
   "id": "d438e44b",
   "metadata": {},
   "source": [
    "< [Table of Contents](#top) | [References](#references) >\n",
    "<a id=\"CloudVDIConfiguration\"></a>\n",
    "***\n",
    "### Cloud VDI Configuration\n",
    "***"
   ]
  },
  {
   "cell_type": "markdown",
   "id": "6779b825",
   "metadata": {},
   "source": []
  },
  {
   "cell_type": "markdown",
   "id": "bd89bb21",
   "metadata": {},
   "source": [
    "< [Table of Contents](#top) | [References](#references) >\n",
    "<a id=\"CloudVDIClientConnections\"></a>\n",
    "***\n",
    "### Cloud VDI Client Connections\n",
    "***"
   ]
  },
  {
   "cell_type": "markdown",
   "id": "c9f42d31",
   "metadata": {},
   "source": []
  },
  {
   "cell_type": "markdown",
   "id": "88de3841",
   "metadata": {},
   "source": [
    "< [Table of Contents](#top) | [References](#references) >\n",
    "<a id=\"Firewalls\"></a>\n",
    "***\n",
    "### Firewalls\n",
    "***"
   ]
  },
  {
   "cell_type": "markdown",
   "id": "d78a1e66",
   "metadata": {},
   "source": []
  },
  {
   "cell_type": "markdown",
   "id": "cd59431a",
   "metadata": {},
   "source": [
    "< [Table of Contents](#top) | [References](#references) >\n",
    "<a id=\"WindowsFirewall\"></a>\n",
    "***\n",
    "### Windows Firewall\n",
    "***"
   ]
  },
  {
   "cell_type": "markdown",
   "id": "5e3ec43a",
   "metadata": {},
   "source": []
  },
  {
   "cell_type": "markdown",
   "id": "efe79722",
   "metadata": {},
   "source": [
    "< [Table of Contents](#top) | [References](#references) >\n",
    "<a id=\"CloudFirewallSolutions\"></a>\n",
    "***\n",
    "### Cloud Firewall Solutions\n",
    "***"
   ]
  },
  {
   "cell_type": "markdown",
   "id": "8bbc0df5",
   "metadata": {},
   "source": []
  },
  {
   "cell_type": "markdown",
   "id": "cf765ffa",
   "metadata": {},
   "source": [
    "< [Table of Contents](#top) | [References](#references) >\n",
    "<a id=\"NetworkAccessControl\"></a>\n",
    "***\n",
    "### Network Access Control\n",
    "***"
   ]
  },
  {
   "cell_type": "markdown",
   "id": "f390eca0",
   "metadata": {},
   "source": []
  },
  {
   "cell_type": "markdown",
   "id": "8fb4c7ed",
   "metadata": {},
   "source": [
    "< [Table of Contents](#top) | [References](#references) >\n",
    "<a id=\"CourseSummary\"></a>\n",
    "***\n",
    "### Course Summary\n",
    "***"
   ]
  },
  {
   "cell_type": "markdown",
   "id": "064391e1",
   "metadata": {},
   "source": []
  },
  {
   "cell_type": "markdown",
   "id": "2cc20932",
   "metadata": {},
   "source": [
    "***\n",
    "## END"
   ]
  },
  {
   "cell_type": "markdown",
   "id": "e0e42d51",
   "metadata": {},
   "source": [
    "< [Table of Contents](#top) >\n",
    "<a id=\"references\"></a>\n",
    "***\n",
    "## References\n",
    "***"
   ]
  },
  {
   "cell_type": "markdown",
   "id": "757bf6de",
   "metadata": {},
   "source": [
    "&nbsp;&nbsp;&nbsp;&nbsp;&nbsp;&nbsp;&nbsp;&nbsp;&nbsp;skillsoft, \"Network Infrastructure Security,\" [skillsoft.com](https://web.archive.org/web/20220403100053/https://www.skillsoft.com/), n.d.."
   ]
  },
  {
   "cell_type": "markdown",
   "id": "b33c372a",
   "metadata": {},
   "source": [
    "***\n",
    "## END"
   ]
  },
  {
   "cell_type": "markdown",
   "id": "e5961b4d",
   "metadata": {},
   "source": [
    "< [Table of Contents](#top) | [References](#references) >\n",
    "<a id=\"appendix\"></a>\n",
    "***\n",
    "## Appendix\n",
    "***"
   ]
  },
  {
   "cell_type": "markdown",
   "id": "00d82a82",
   "metadata": {},
   "source": [
    "***\n",
    "## END"
   ]
  },
  {
   "cell_type": "code",
   "execution_count": 1,
   "id": "706756a2",
   "metadata": {},
   "outputs": [
    {
     "data": {
      "text/html": [
       "<style>.container { width:100% !important; }</style>"
      ],
      "text/plain": [
       "<IPython.core.display.HTML object>"
      ]
     },
     "metadata": {},
     "output_type": "display_data"
    }
   ],
   "source": [
    "from IPython.core.display import display,HTML\n",
    "display(HTML(\"<style>.container { width:100% !important; }</style>\"))"
   ]
  },
  {
   "cell_type": "markdown",
   "id": "899c1783",
   "metadata": {},
   "source": [
    "# END JUPYTER NOTEBOOK"
   ]
  }
 ],
 "metadata": {
  "kernelspec": {
   "display_name": "Python 3",
   "language": "python",
   "name": "python3"
  },
  "language_info": {
   "codemirror_mode": {
    "name": "ipython",
    "version": 3
   },
   "file_extension": ".py",
   "mimetype": "text/x-python",
   "name": "python",
   "nbconvert_exporter": "python",
   "pygments_lexer": "ipython3",
   "version": "3.8.8"
  }
 },
 "nbformat": 4,
 "nbformat_minor": 5
}
